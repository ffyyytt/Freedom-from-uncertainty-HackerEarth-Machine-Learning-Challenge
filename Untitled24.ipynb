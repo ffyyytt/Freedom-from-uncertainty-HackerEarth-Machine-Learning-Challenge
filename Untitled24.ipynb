{
 "cells": [
  {
   "cell_type": "code",
   "execution_count": 16,
   "metadata": {},
   "outputs": [],
   "source": [
    "import csv\n",
    "from sklearn.model_selection import train_test_split\n",
    "from sklearn.linear_model import LinearRegression\n",
    "import matplotlib.pyplot as plt \n",
    "import numpy as np \n",
    "from sklearn import datasets, linear_model, metrics\n",
    "import pandas as pd\n",
    "import datetime\n",
    "from fancyimpute import KNN\n",
    "from impyute.imputation.cs import mice,fast_knn"
   ]
  },
  {
   "cell_type": "code",
   "execution_count": 17,
   "metadata": {},
   "outputs": [],
   "source": [
    "def xuat(fw,a):\n",
    "    fw.write(a[0])\n",
    "    for i in range(1,len(a)):\n",
    "        fw.write(','+a[i])\n",
    "    fw.write('\\n')\n",
    "def chuanhoa(a):\n",
    "    for i in range(len(a[0])):\n",
    "        for j in range(len(a)-1):\n",
    "            if (abs(a[j][i])>500+abs(a[len(a)-1][i])**(1.5)):\n",
    "                a[j][i] = np.nan\n",
    "    return a"
   ]
  },
  {
   "cell_type": "code",
   "execution_count": 18,
   "metadata": {
    "scrolled": true
   },
   "outputs": [],
   "source": [
    "fwabc = open(\"abc.csv\",\"w+\")\n",
    "fwdef = open(\"def.csv\",\"w+\")\n",
    "fwghi = open(\"ghi.csv\",\"w+\")\n",
    "count = 0\n",
    "with open('train.csv', 'r') as f:\n",
    "    reader = csv.reader(f)\n",
    "    for row in reader:\n",
    "        if (count ==0):\n",
    "            xuat(fwabc,row[:2]+row[3:])\n",
    "            xuat(fwdef,row[:2]+row[3:])\n",
    "            xuat(fwghi,row[:2]+row[3:])\n",
    "            count = count + 1\n",
    "            continue\n",
    "        else:\n",
    "            if (count%3 == 1):\n",
    "                xuat(fwabc,[row[0]]+[row[1]]+row[3:])\n",
    "            elif (count%3 == 2):\n",
    "                xuat(fwdef,[row[0]]+[row[1]]+row[3:])\n",
    "            else:\n",
    "                xuat(fwghi,[row[0]]+[row[1]]+row[3:])\n",
    "        count = count + 1\n",
    "f.close()\n",
    "fwabc.close()\n",
    "fwdef.close()\n",
    "fwghi.close()"
   ]
  },
  {
   "cell_type": "code",
   "execution_count": 19,
   "metadata": {
    "scrolled": true
   },
   "outputs": [
    {
     "name": "stdout",
     "output_type": "stream",
     "text": [
      "['SMA', 'EMA', 'WMA', 'DEMA', 'TEMA', 'TRIMA', 'KAMA', 'FAMA', 'MAMA', 'T3', 'MACD', 'MACD_Hist', 'MACD_Signal', 'MAC', 'MAC_Hist', 'MAC_Signal', 'SlowD', 'SlowK', 'FastD', 'FastK', 'RSI', 'FatD', 'FatK', 'WILLR', 'ADX', 'ADXR', 'APO', 'PPO', 'MOM', 'BOP', 'CCI', 'CMO', 'ROC', 'ROCR', 'Aroon Down', 'Aroon Up', 'AROONOSC', 'MFI', 'TRIX', 'ULTOSC', 'DX', 'MINUS_DI', 'PLUS_DI', 'MINUS_DM', 'PLUS_DM', 'Real Lower Band', 'Real Middle Band', 'Real Upper Band', 'MIDPOINT', 'MIDPRICE', 'SAR', 'TRANGE', 'ATR', 'NATR', 'Chaikin A/D', 'ADOSC', 'OBV', 'HT_TRENDLINE', 'LEAD SINE', 'SINE', 'TRENDMODE', 'DCPERIOD', 'HT_DCPHASE', 'PHASE', 'QUADRATURE']\n"
     ]
    }
   ],
   "source": [
    "x = []\n",
    "y = []\n",
    "count = 0\n",
    "with open('abc.csv', 'r') as f:\n",
    "    reader = csv.reader(f)\n",
    "    for row in reader:\n",
    "        if (count ==0):\n",
    "            print(row[2:-1])\n",
    "            count = count + 1\n",
    "            continue\n",
    "        else:\n",
    "            xdata = list(map(float,row[2:-1]))\n",
    "            x.append(pd.Series(xdata).fillna(0).tolist())\n",
    "            y.append([float(row[-1])])\n",
    "        count = count + 1\n",
    "f.close()\n",
    "xabc = x[:]\n",
    "yabc = y[:]\n",
    "count = 0\n",
    "with open('def.csv', 'r') as f:\n",
    "    reader = csv.reader(f)\n",
    "    for row in reader:\n",
    "        if (count ==0):\n",
    "            count = count + 1\n",
    "            continue\n",
    "        else:\n",
    "            xdata = list(map(float,row[2:-1]))\n",
    "            x.append(pd.Series(xdata).fillna(0).tolist())\n",
    "            y.append([float(row[-1])])\n",
    "        count = count + 1\n",
    "f.close()\n",
    "count = 0\n",
    "with open('ghi.csv', 'r') as f:\n",
    "    reader = csv.reader(f)\n",
    "    for row in reader:\n",
    "        if (count ==0):\n",
    "            count = count + 1\n",
    "            continue\n",
    "        else:\n",
    "            xdata = list(map(float,row[2:-1]))\n",
    "            x.append(pd.Series(xdata).fillna(0).tolist())\n",
    "            y.append([float(row[-1])])\n",
    "        count = count + 1\n",
    "f.close()"
   ]
  },
  {
   "cell_type": "code",
   "execution_count": 20,
   "metadata": {},
   "outputs": [
    {
     "name": "stdout",
     "output_type": "stream",
     "text": [
      "[0.5542607118537232, 2.111553389825502, -1.5687052590842854, -0.40383276087878134, 0.4687745255142025, -0.10969714207554314, -0.046108279287725124, -0.02824583131546307, 0.05008335505022338, -0.10074435000530946, -0.19945532544609448, 0.19249250969720913, -0.04052814149267627, 0.006470991761571454, 0.01564181895281925, 0.07036925820781381, -0.14167609964863062, 0.024046249714211862, 0.04391441029171021, 0.013204904686645078, -0.13604424982503466, 0.01256902772412663, -0.02925539099009755, 0.01902954533692572, -0.023677270202820608, -0.04972203339336845, -0.04200055119439486, -0.01851943440504759, 0.008556657178475285, 0.02336162014194259, 0.015765700230847057, 0.10718785347684578, -0.002722657679367479, -0.25412435738751765, -0.010773445826781018, 0.01004990333343516, -0.020529754095123656, -0.00020079087745819568, 0.6733956143156471, 0.2381852931166351, 0.008424141505932245, 0.2100077203259234, -0.11824731482254622, -0.7698216124235508, 0.5413289938304485, 0.2212705868272051, -0.15569202253481085, 0.22425424282081277, -0.06283057746428802, -0.09403228848354311, -0.048415963324021066, -0.11812538898054212, 0.5183214404132076, 0.18087059824850674, -2.3982105190611946e-10, -2.6445145739906195e-08, 5.961789673047946e-10, -0.011163634208753104, -1.2124733366121223, 0.7508367546131361, -0.011433843443208093, 0.004240416394909179, -0.00882108237252932, 0.020084542697466456, 0.005780676356640785]\n"
     ]
    }
   ],
   "source": [
    "xm = np.matrix(x)\n",
    "ym = np.matrix(y)\n",
    "res = np.linalg.lstsq(xm, ym, rcond=None )[0].ravel().tolist()[0]\n",
    "print(res)"
   ]
  },
  {
   "cell_type": "code",
   "execution_count": 21,
   "metadata": {},
   "outputs": [],
   "source": [
    "fw= open(\"sub.csv\",\"w+\")\n",
    "fw.write(\"ID,Price\\n\")\n",
    "count = 0\n",
    "with open('test.csv', 'r') as f2:\n",
    "    reader = csv.reader(f2)\n",
    "    for row in reader:\n",
    "        if (count == 0 ):\n",
    "            count = count + 1\n",
    "            continue\n",
    "        elif (row[3:] in x):\n",
    "            p = y[x.index(row[3:])]\n",
    "            fw.write(str(count+12000)+','+str(float(\"%.2f\"%p))+\"\\n\")\n",
    "            print('Here!')\n",
    "        else:\n",
    "            test = list(map(float,row[3:]))\n",
    "            p = 0\n",
    "            for i in range(len(test)):\n",
    "                p = p+test[i]*res[i]\n",
    "            fw.write(str(count+12000)+','+str(float(\"%.2f\"%p))+\"\\n\")\n",
    "        count = count + 1\n",
    "f2.close()\n",
    "fw.close()"
   ]
  },
  {
   "cell_type": "code",
   "execution_count": 22,
   "metadata": {},
   "outputs": [
    {
     "name": "stdout",
     "output_type": "stream",
     "text": [
      "517.3099999999996\n"
     ]
    }
   ],
   "source": [
    "count = 0\n",
    "bbeesstt = []\n",
    "with open('subbest.csv', 'r') as f3:\n",
    "    reader = csv.reader(f3)\n",
    "    for row in reader:\n",
    "        if (count == 0 ):\n",
    "            count = count + 1\n",
    "            continue\n",
    "        elif (count >78):\n",
    "            break\n",
    "        else:\n",
    "            bbeesstt.append(float(row[1]))\n",
    "        count = count + 1\n",
    "f3.close()\n",
    "count = 0\n",
    "score = 0\n",
    "xxx = []\n",
    "with open('sub.csv', 'r') as f3:\n",
    "    reader = csv.reader(f3)\n",
    "    for row in reader:\n",
    "        if (count == 0 ):\n",
    "            count = count + 1\n",
    "            continue\n",
    "        elif (count >78):\n",
    "            break\n",
    "        else:\n",
    "            score = score + abs(float(row[1])-bbeesstt[count-1])\n",
    "        count = count + 1\n",
    "f3.close()\n",
    "print(score)"
   ]
  },
  {
   "cell_type": "code",
   "execution_count": 23,
   "metadata": {},
   "outputs": [
    {
     "data": {
      "text/plain": [
       "530.89"
      ]
     },
     "execution_count": 23,
     "metadata": {},
     "output_type": "execute_result"
    }
   ],
   "source": [
    "530.89"
   ]
  },
  {
   "cell_type": "code",
   "execution_count": 20,
   "metadata": {},
   "outputs": [],
   "source": [
    "df = pd.read_csv('train.csv').fillna(0)\n",
    "dfx = df.iloc[:,3:-1].values\n",
    "dfy = df.iloc[:,-1].values"
   ]
  },
  {
   "cell_type": "code",
   "execution_count": 21,
   "metadata": {},
   "outputs": [
    {
     "name": "stderr",
     "output_type": "stream",
     "text": [
      "D:\\Users\\DELL\\Anaconda3\\lib\\site-packages\\sklearn\\linear_model\\logistic.py:432: FutureWarning: Default solver will be changed to 'lbfgs' in 0.22. Specify a solver to silence this warning.\n",
      "  FutureWarning)\n"
     ]
    },
    {
     "ename": "ValueError",
     "evalue": "Unknown label type: 'continuous'",
     "output_type": "error",
     "traceback": [
      "\u001b[1;31m---------------------------------------------------------------------------\u001b[0m",
      "\u001b[1;31mValueError\u001b[0m                                Traceback (most recent call last)",
      "\u001b[1;32m<ipython-input-21-84fa229ba657>\u001b[0m in \u001b[0;36m<module>\u001b[1;34m\u001b[0m\n\u001b[0;32m      1\u001b[0m \u001b[1;32mfrom\u001b[0m \u001b[0msklearn\u001b[0m\u001b[1;33m.\u001b[0m\u001b[0mlinear_model\u001b[0m \u001b[1;32mimport\u001b[0m \u001b[0mLogisticRegression\u001b[0m\u001b[1;33m\u001b[0m\u001b[1;33m\u001b[0m\u001b[0m\n\u001b[0;32m      2\u001b[0m \u001b[0ml_clf\u001b[0m \u001b[1;33m=\u001b[0m \u001b[0mLogisticRegression\u001b[0m\u001b[1;33m(\u001b[0m\u001b[1;33m)\u001b[0m\u001b[1;33m\u001b[0m\u001b[1;33m\u001b[0m\u001b[0m\n\u001b[1;32m----> 3\u001b[1;33m \u001b[0ml_clf\u001b[0m\u001b[1;33m.\u001b[0m\u001b[0mfit\u001b[0m\u001b[1;33m(\u001b[0m\u001b[0mdfx\u001b[0m\u001b[1;33m,\u001b[0m\u001b[0mdfy\u001b[0m\u001b[1;33m)\u001b[0m\u001b[1;33m\u001b[0m\u001b[1;33m\u001b[0m\u001b[0m\n\u001b[0m",
      "\u001b[1;32mD:\\Users\\DELL\\Anaconda3\\lib\\site-packages\\sklearn\\linear_model\\logistic.py\u001b[0m in \u001b[0;36mfit\u001b[1;34m(self, X, y, sample_weight)\u001b[0m\n\u001b[0;32m   1531\u001b[0m         X, y = check_X_y(X, y, accept_sparse='csr', dtype=_dtype, order=\"C\",\n\u001b[0;32m   1532\u001b[0m                          accept_large_sparse=solver != 'liblinear')\n\u001b[1;32m-> 1533\u001b[1;33m         \u001b[0mcheck_classification_targets\u001b[0m\u001b[1;33m(\u001b[0m\u001b[0my\u001b[0m\u001b[1;33m)\u001b[0m\u001b[1;33m\u001b[0m\u001b[1;33m\u001b[0m\u001b[0m\n\u001b[0m\u001b[0;32m   1534\u001b[0m         \u001b[0mself\u001b[0m\u001b[1;33m.\u001b[0m\u001b[0mclasses_\u001b[0m \u001b[1;33m=\u001b[0m \u001b[0mnp\u001b[0m\u001b[1;33m.\u001b[0m\u001b[0munique\u001b[0m\u001b[1;33m(\u001b[0m\u001b[0my\u001b[0m\u001b[1;33m)\u001b[0m\u001b[1;33m\u001b[0m\u001b[1;33m\u001b[0m\u001b[0m\n\u001b[0;32m   1535\u001b[0m         \u001b[0mn_samples\u001b[0m\u001b[1;33m,\u001b[0m \u001b[0mn_features\u001b[0m \u001b[1;33m=\u001b[0m \u001b[0mX\u001b[0m\u001b[1;33m.\u001b[0m\u001b[0mshape\u001b[0m\u001b[1;33m\u001b[0m\u001b[1;33m\u001b[0m\u001b[0m\n",
      "\u001b[1;32mD:\\Users\\DELL\\Anaconda3\\lib\\site-packages\\sklearn\\utils\\multiclass.py\u001b[0m in \u001b[0;36mcheck_classification_targets\u001b[1;34m(y)\u001b[0m\n\u001b[0;32m    167\u001b[0m     if y_type not in ['binary', 'multiclass', 'multiclass-multioutput',\n\u001b[0;32m    168\u001b[0m                       'multilabel-indicator', 'multilabel-sequences']:\n\u001b[1;32m--> 169\u001b[1;33m         \u001b[1;32mraise\u001b[0m \u001b[0mValueError\u001b[0m\u001b[1;33m(\u001b[0m\u001b[1;34m\"Unknown label type: %r\"\u001b[0m \u001b[1;33m%\u001b[0m \u001b[0my_type\u001b[0m\u001b[1;33m)\u001b[0m\u001b[1;33m\u001b[0m\u001b[1;33m\u001b[0m\u001b[0m\n\u001b[0m\u001b[0;32m    170\u001b[0m \u001b[1;33m\u001b[0m\u001b[0m\n\u001b[0;32m    171\u001b[0m \u001b[1;33m\u001b[0m\u001b[0m\n",
      "\u001b[1;31mValueError\u001b[0m: Unknown label type: 'continuous'"
     ]
    }
   ],
   "source": [
    "from sklearn.linear_model import LogisticRegression\n",
    "l_clf = LogisticRegression()\n",
    "l_clf.fit(dfx,dfy)"
   ]
  },
  {
   "cell_type": "code",
   "execution_count": null,
   "metadata": {},
   "outputs": [],
   "source": []
  }
 ],
 "metadata": {
  "kernelspec": {
   "display_name": "Python 3",
   "language": "python",
   "name": "python3"
  },
  "language_info": {
   "codemirror_mode": {
    "name": "ipython",
    "version": 3
   },
   "file_extension": ".py",
   "mimetype": "text/x-python",
   "name": "python",
   "nbconvert_exporter": "python",
   "pygments_lexer": "ipython3",
   "version": "3.7.3"
  }
 },
 "nbformat": 4,
 "nbformat_minor": 2
}
